{
  "nbformat": 4,
  "nbformat_minor": 0,
  "metadata": {
    "colab": {
      "name": "RL_cartpendulum.ipynb",
      "provenance": [],
      "authorship_tag": "ABX9TyOH3StxueWC+7+HsCI+3nMR",
      "include_colab_link": true
    },
    "kernelspec": {
      "name": "python3",
      "display_name": "Python 3"
    },
    "language_info": {
      "name": "python"
    }
  },
  "cells": [
    {
      "cell_type": "markdown",
      "metadata": {
        "id": "view-in-github",
        "colab_type": "text"
      },
      "source": [
        "<a href=\"https://colab.research.google.com/github/AdrianGuel/AdrianGuel.github.io/blob/main/MachineLearningbits/RL_cartpendulum.ipynb\" target=\"_parent\"><img src=\"https://colab.research.google.com/assets/colab-badge.svg\" alt=\"Open In Colab\"/></a>"
      ]
    },
    {
      "cell_type": "code",
      "execution_count": null,
      "metadata": {
        "colab": {
          "base_uri": "https://localhost:8080/"
        },
        "id": "cQU5CNsvHTKc",
        "outputId": "6b8ddb46-c553-4776-f1e7-6ecacdf85ed4"
      },
      "outputs": [
        {
          "output_type": "stream",
          "name": "stdout",
          "text": [
            "Colab only includes TensorFlow 2.x; %tensorflow_version has no effect.\n",
            "Installing MIT deep learning package... Done\n"
          ]
        }
      ],
      "source": [
        "# Import Tensorflow 2.0\n",
        "%tensorflow_version 2.x\n",
        "import tensorflow as tf\n",
        "\n",
        "gpus = tf.config.experimental.list_physical_devices('GPU')\n",
        "if gpus:\n",
        "    for gpu in gpus:\n",
        "        tf.config.experimental.set_memory_growth(gpu, True)\n",
        "\n",
        "# Download and import the MIT 6.S191 package\n",
        "!printf \"Installing MIT deep learning package... \"\n",
        "!pip install --upgrade git+https://github.com/aamini/introtodeeplearning.git &> /dev/null\n",
        "!echo \"Done\""
      ]
    },
    {
      "cell_type": "code",
      "source": [
        "#Install some dependencies for visualizing the agents\n",
        "!apt-get install -y xvfb python-opengl x11-utils &> /dev/null\n",
        "!pip install gym pyvirtualdisplay scikit-video ffio pyrender &> /dev/null\n",
        "!pip install tensorflow_probability==0.12.0 &> /dev/null\n",
        "import os\n",
        "os.environ['PYOPENGL_PLATFORM'] = 'egl'\n",
        "\n",
        "import numpy as np\n",
        "import matplotlib, cv2\n",
        "import matplotlib.pyplot as plt\n",
        "import base64, io, os, time, gym\n",
        "import IPython, functools\n",
        "import time\n",
        "from tqdm import tqdm\n",
        "import tensorflow_probability as tfp\n",
        "\n",
        "import mitdeeplearning as mdl"
      ],
      "metadata": {
        "id": "7mEsng57HqAK"
      },
      "execution_count": null,
      "outputs": []
    },
    {
      "cell_type": "code",
      "source": [
        "### Instantiate the Cartpole environment ###\n",
        "\n",
        "env = gym.make(\"CartPole-v1\")\n",
        "env.seed(1)\n",
        "n_observations = env.observation_space\n",
        "print(\"Environment has observation space =\", n_observations)\n",
        "n_actions = env.action_space.n\n",
        "print(\"Number of possible actions that the agent can choose from =\", n_actions)\n",
        "\n",
        "### Define the Cartpole agent ###\n",
        "\n",
        "# Defines a feed-forward neural network\n",
        "def create_cartpole_model():\n",
        "    model = tf.keras.models.Sequential([\n",
        "        # First Dense layer\n",
        "        tf.keras.layers.Dense(units=32, activation='relu'),\n",
        "        \n",
        "        # TODO: Define the last Dense layer, which will provide the network's output.\n",
        "        # Think about the space the agent needs to act in!\n",
        "        tf.keras.layers.Dense(units=n_actions, activation=None) # TODO\n",
        "        # ['''TODO''' Dense layer to output action probabilities]\n",
        "    ])\n",
        "    return model\n",
        "\n",
        "cartpole_model = create_cartpole_model()\n",
        "\n",
        "### Define the agent's action function ###\n",
        "\n",
        "# Function that takes observations as input, executes a forward pass through model, \n",
        "#   and outputs a sampled action.\n",
        "# Arguments:\n",
        "#   model: the network that defines our agent\n",
        "#   observation: observation(s) which is/are fed as input to the model\n",
        "#   single: flag as to whether we are handling a single observation or batch of\n",
        "#     observations, provided as an np.array\n",
        "# Returns:\n",
        "#   action: choice of agent action\n",
        "def choose_action(model, observation, single=True):\n",
        "    # add batch dimension to the observation if only a single example was provided\n",
        "    observation = np.expand_dims(observation, axis=0) if single else observation\n",
        "\n",
        "    '''TODO: feed the observations through the model to predict the log probabilities of each possible action.'''\n",
        "    logits = model.predict(observation) # TODO\n",
        "    # logits = model.predict('''TODO''')\n",
        "\n",
        "    '''TODO: Choose an action from the categorical distribution defined by the log \n",
        "       probabilities of each possible action.'''\n",
        "    action = tf.random.categorical(logits, num_samples=1)\n",
        "    # action = ['''TODO''']\n",
        "\n",
        "    action = action.numpy().flatten()\n",
        "\n",
        "    return action[0] if single else action\n"
      ],
      "metadata": {
        "colab": {
          "base_uri": "https://localhost:8080/"
        },
        "id": "IQkMdshbH9sc",
        "outputId": "a062e00c-2dca-4d2e-c8d2-c3e462ef0d98"
      },
      "execution_count": null,
      "outputs": [
        {
          "output_type": "stream",
          "name": "stdout",
          "text": [
            "Environment has observation space = Box(-3.4028234663852886e+38, 3.4028234663852886e+38, (4,), float32)\n",
            "Number of possible actions that the agent can choose from = 2\n"
          ]
        }
      ]
    },
    {
      "cell_type": "code",
      "source": [
        "### Agent Memory ###\n",
        "\n",
        "class Memory:\n",
        "    def __init__(self): \n",
        "        self.clear()\n",
        "\n",
        "  # Resets/restarts the memory buffer\n",
        "    def clear(self): \n",
        "        self.observations = []\n",
        "        self.actions = []\n",
        "        self.rewards = []\n",
        "\n",
        "  # Add observations, actions, rewards to memory\n",
        "    def add_to_memory(self, new_observation, new_action, new_reward): \n",
        "        self.observations.append(new_observation)\n",
        "        '''TODO: update the list of actions with new action'''\n",
        "        self.actions.append(new_action) # TODO\n",
        "        # ['''TODO''']\n",
        "        '''TODO: update the list of rewards with new reward'''\n",
        "        self.rewards.append(new_reward) # TODO\n",
        "        # ['''TODO''']\n",
        "\n",
        "    def __len__(self):\n",
        "        return len(self.actions)\n",
        "\n",
        "# Instantiate a single Memory buffer\n",
        "memory = Memory()\n",
        "\n",
        "### Reward function ###\n",
        "\n",
        "# Helper function that normalizes an np.array x\n",
        "def normalize(x):\n",
        "    x -= np.mean(x)\n",
        "    x /= np.std(x)\n",
        "    return x.astype(np.float32)\n",
        "\n",
        "# Compute normalized, discounted, cumulative rewards (i.e., return)\n",
        "# Arguments:\n",
        "#   rewards: reward at timesteps in episode\n",
        "#   gamma: discounting factor\n",
        "# Returns:\n",
        "#   normalized discounted reward\n",
        "def discount_rewards(rewards, gamma=0.95): \n",
        "    discounted_rewards = np.zeros_like(rewards)\n",
        "    R = 0\n",
        "    for t in reversed(range(0, len(rewards))):\n",
        "        # update the total discounted reward\n",
        "        R = R * gamma + rewards[t]\n",
        "        discounted_rewards[t] = R\n",
        "      \n",
        "    return normalize(discounted_rewards)"
      ],
      "metadata": {
        "id": "bjyxulm4IYz0"
      },
      "execution_count": null,
      "outputs": []
    },
    {
      "cell_type": "code",
      "source": [
        "### Loss function ###\n",
        "\n",
        "# Arguments:\n",
        "#   logits: network's predictions for actions to take\n",
        "#   actions: the actions the agent took in an episode\n",
        "#   rewards: the rewards the agent received in an episode\n",
        "# Returns:\n",
        "#   loss\n",
        "def compute_loss(logits, actions, rewards): \n",
        "    '''TODO: complete the function call to compute the negative log probabilities'''\n",
        "    neg_logprob = tf.nn.sparse_softmax_cross_entropy_with_logits(\n",
        "        logits=logits, labels=actions) # TODO\n",
        "    # neg_logprob = tf.nn.sparse_softmax_cross_entropy_with_logits(\n",
        "    #    logits='''TODO''', labels='''TODO''')\n",
        "  \n",
        "    '''TODO: scale the negative log probability by the rewards'''\n",
        "    loss = tf.reduce_mean( neg_logprob * rewards ) # TODO\n",
        "    # loss = tf.reduce_mean('''TODO''')\n",
        "    return loss"
      ],
      "metadata": {
        "id": "OzXZX1Z7IiIj"
      },
      "execution_count": null,
      "outputs": []
    },
    {
      "cell_type": "code",
      "source": [
        "### Training step (forward and backpropagation) ###\n",
        "\n",
        "def train_step(model, loss_function, optimizer, observations, actions, discounted_rewards, custom_fwd_fn=None):\n",
        "    with tf.GradientTape() as tape:\n",
        "        # Forward propagate through the agent network\n",
        "        if custom_fwd_fn is not None:\n",
        "            prediction = custom_fwd_fn(observations)\n",
        "        else: \n",
        "            prediction = model(observations)\n",
        "\n",
        "        '''TODO: call the compute_loss function to compute the loss'''\n",
        "        loss = loss_function(prediction, actions, discounted_rewards) # TODO\n",
        "        # loss = loss_function('''TODO''', '''TODO''', '''TODO''')\n",
        "\n",
        "    '''TODO: run backpropagation to minimize the loss using the tape.gradient method. \n",
        "             Unlike supervised learning, RL is *extremely* noisy, so you will benefit \n",
        "             from additionally clipping your gradients to avoid falling into \n",
        "             dangerous local minima. After computing your gradients try also clipping\n",
        "             by a global normalizer. Try different clipping values, usually clipping \n",
        "             between 0.5 and 5 provides reasonable results. '''\n",
        "    grads = tape.gradient(loss, model.trainable_variables) # TODO\n",
        "    # grads = tape.gradient('''TODO''', '''TODO''')\n",
        "    grads, _ = tf.clip_by_global_norm(grads, 2)\n",
        "    # grads, _ = tf.clip_by_global_norm(grads, '''TODO''')\n",
        "    optimizer.apply_gradients(zip(grads, model.trainable_variables))"
      ],
      "metadata": {
        "id": "7pV0Oke9ImBo"
      },
      "execution_count": null,
      "outputs": []
    },
    {
      "cell_type": "code",
      "source": [
        "## Training parameters ##\n",
        "## Re-run this cell to restart training from scratch ##\n",
        "\n",
        "# TODO: Learning rate and optimizer\n",
        "learning_rate = 1e-3\n",
        "# learning_rate = '''TODO'''\n",
        "optimizer = tf.keras.optimizers.Adam(learning_rate)\n",
        "# optimizer = '''TODO'''\n",
        "\n",
        "# instantiate cartpole agent\n",
        "cartpole_model = create_cartpole_model()\n",
        "\n",
        "# to track our progress\n",
        "smoothed_reward = mdl.util.LossHistory(smoothing_factor=0.95)\n",
        "plotter = mdl.util.PeriodicPlotter(sec=2, xlabel='Iterations', ylabel='Rewards')"
      ],
      "metadata": {
        "id": "oCLkLXEOIl58"
      },
      "execution_count": null,
      "outputs": []
    },
    {
      "cell_type": "code",
      "source": [
        "## Cartpole training! ##\n",
        "## Note: stoping and restarting this cell will pick up training where you\n",
        "#        left off. To restart training you need to rerun the cell above as \n",
        "#        well (to re-initialize the model and optimizer)\n",
        "\n",
        "if hasattr(tqdm, '_instances'): tqdm._instances.clear() # clear if it exists\n",
        "for i_episode in range(500):\n",
        "\n",
        "    plotter.plot(smoothed_reward.get())\n",
        "    # Restart the environment\n",
        "    observation = env.reset()\n",
        "    memory.clear()\n",
        "\n",
        "    while True:\n",
        "        # using our observation, choose an action and take it in the environment\n",
        "        action = choose_action(cartpole_model, observation)\n",
        "        next_observation, reward, done, info = env.step(action)\n",
        "        # add to memory\n",
        "        memory.add_to_memory(observation, action, reward)\n",
        "\n",
        "        # is the episode over? did you crash or do so well that you're done?\n",
        "        if done:\n",
        "            # determine total reward and keep a record of this\n",
        "            total_reward = sum(memory.rewards)\n",
        "            smoothed_reward.append(total_reward)\n",
        "          \n",
        "            # initiate training - remember we don't know anything about how the \n",
        "            #   agent is doing until it has crashed!\n",
        "            g = train_step(cartpole_model, compute_loss, optimizer, \n",
        "                       observations=np.vstack(memory.observations),\n",
        "                       actions=np.array(memory.actions),\n",
        "                       discounted_rewards = discount_rewards(memory.rewards))\n",
        "          \n",
        "            # reset the memory\n",
        "            memory.clear()\n",
        "            break\n",
        "        # update our observatons\n",
        "        observation = next_observation"
      ],
      "metadata": {
        "colab": {
          "base_uri": "https://localhost:8080/",
          "height": 279
        },
        "id": "CtkVn8kvItkh",
        "outputId": "a9d4e35e-e9c8-4789-9358-74cdcf423cd8"
      },
      "execution_count": null,
      "outputs": [
        {
          "output_type": "display_data",
          "data": {
            "text/plain": [
              "<Figure size 432x288 with 1 Axes>"
            ],
            "image/png": "[encoded data removed]"
          },
          "metadata": {}
        }
      ]
    },
    {
      "cell_type": "code",
      "source": [
        "matplotlib.use('Agg') \n",
        "saved_cartpole = mdl.lab3.save_video_of_model(cartpole_model, \"CartPole-v1\")\n",
        "mdl.lab3.play_video(saved_cartpole)"
      ],
      "metadata": {
        "colab": {
          "base_uri": "https://localhost:8080/",
          "height": 439
        },
        "id": "c0iy7zTvKhE0",
        "outputId": "11811e2a-b136-4dd7-80ce-a4b566c39234"
      },
      "execution_count": null,
      "outputs": [
        {
          "output_type": "stream",
          "name": "stdout",
          "text": [
            "Successfully saved 500 frames into CartPole-v1.mp4!\n"
          ]
        },
        {
          "output_type": "execute_result",
          "data": {
            "text/plain": [
              "<IPython.core.display.HTML object>"
            ],
            "text/html": [
              "\n",
              "        <video controls >\n",
              "            <source src=\"data:video/mp4;base64,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\" type=\"video/mp4\" />\n",
              "        </video>"
            ]
          },
          "metadata": {},
          "execution_count": 12
        }
      ]
    }
  ]
}